{
 "cells": [
  {
   "cell_type": "code",
   "execution_count": null,
   "metadata": {},
   "outputs": [],
   "source": [
    "import pandas as pd\n",
    "df_clientes = pd.read_csv('C:/Users/Eduardo/codenation/coestatistica-1/desafio1.csv')\n",
    "df_clientes.head()"
   ]
  },
  {
   "cell_type": "code",
   "execution_count": null,
   "metadata": {},
   "outputs": [],
   "source": [
    "df_clientes.info()"
   ]
  },
  {
   "cell_type": "code",
   "execution_count": null,
   "metadata": {},
   "outputs": [],
   "source": [
    "df_clientes['pontuacao_credito'].describe()"
   ]
  },
  {
   "cell_type": "code",
   "execution_count": null,
   "metadata": {},
   "outputs": [],
   "source": [
    "df_cliente_estado = df_clientes.groupby('estado_residencia')\n",
    "result = df_cliente_estado.agg(**{\n",
    "    'moda' : pd.NamedAgg('pontuacao_credito', pd.Series.mode),\n",
    "    'mediana' : pd.NamedAgg('pontuacao_credito', 'median'),\n",
    "    'media' : pd.NamedAgg('pontuacao_credito', 'mean'),\n",
    "    'desvio_padrao' : pd.NamedAgg('pontuacao_credito', 'std')\n",
    "})\n",
    "result"
   ]
  },
  {
   "cell_type": "code",
   "execution_count": null,
   "metadata": {},
   "outputs": [],
   "source": [
    "result.to_json(orient='index', path_or_buf = 'C:/Users/Eduardo/codenation/coestatistica-1/analise.json')"
   ]
  }
 ],
 "metadata": {
  "language_info": {
   "codemirror_mode": {
    "name": "ipython",
    "version": 3
   },
   "file_extension": ".py",
   "mimetype": "text/x-python",
   "name": "python",
   "nbconvert_exporter": "python",
   "pygments_lexer": "ipython3",
   "version": 3
  },
  "orig_nbformat": 2
 },
 "nbformat": 4,
 "nbformat_minor": 2
}
